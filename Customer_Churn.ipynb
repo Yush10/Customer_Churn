import pandas as pd
import io

df = pd.read_csv(io.BytesIO(uploaded['Customer_Churn.csv']))
print(df)
